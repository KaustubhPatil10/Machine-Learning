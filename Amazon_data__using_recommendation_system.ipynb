{
 "cells": [
  {
   "cell_type": "code",
   "execution_count": 1,
   "id": "9b5df701",
   "metadata": {},
   "outputs": [],
   "source": [
    "import pandas as pd\n",
    "import numpy as np\n",
    "import surprise"
   ]
  },
  {
   "cell_type": "code",
   "execution_count": 2,
   "id": "0635ae14",
   "metadata": {},
   "outputs": [],
   "source": [
    "df = pd.read_csv(r\"Cases\\Association Datasets\\Amazon Movie Ratings\\Amazon.csv\")\n",
    "\n",
    "ratings = pd.melt(df, id_vars='user_id', \n",
    "                  var_name=\"item_id\",value_name=\"rating\")\n",
    "\n",
    "ratings = ratings[ratings['rating'].notna()]\n"
   ]
  },
  {
   "cell_type": "code",
   "execution_count": 3,
   "id": "066075f8",
   "metadata": {},
   "outputs": [
    {
     "data": {
      "text/html": [
       "<div>\n",
       "<style scoped>\n",
       "    .dataframe tbody tr th:only-of-type {\n",
       "        vertical-align: middle;\n",
       "    }\n",
       "\n",
       "    .dataframe tbody tr th {\n",
       "        vertical-align: top;\n",
       "    }\n",
       "\n",
       "    .dataframe thead th {\n",
       "        text-align: right;\n",
       "    }\n",
       "</style>\n",
       "<table border=\"1\" class=\"dataframe\">\n",
       "  <thead>\n",
       "    <tr style=\"text-align: right;\">\n",
       "      <th></th>\n",
       "      <th>user_id</th>\n",
       "      <th>item_id</th>\n",
       "      <th>rating</th>\n",
       "    </tr>\n",
       "  </thead>\n",
       "  <tbody>\n",
       "    <tr>\n",
       "      <th>0</th>\n",
       "      <td>A3R5OBKS7OM2IR</td>\n",
       "      <td>Movie1</td>\n",
       "      <td>5.0</td>\n",
       "    </tr>\n",
       "    <tr>\n",
       "      <th>4848</th>\n",
       "      <td>A3R5OBKS7OM2IR</td>\n",
       "      <td>Movie2</td>\n",
       "      <td>5.0</td>\n",
       "    </tr>\n",
       "    <tr>\n",
       "      <th>9697</th>\n",
       "      <td>AH3QC2PC1VTGP</td>\n",
       "      <td>Movie3</td>\n",
       "      <td>2.0</td>\n",
       "    </tr>\n",
       "    <tr>\n",
       "      <th>14546</th>\n",
       "      <td>A3LKP6WPMP9UKX</td>\n",
       "      <td>Movie4</td>\n",
       "      <td>5.0</td>\n",
       "    </tr>\n",
       "    <tr>\n",
       "      <th>14547</th>\n",
       "      <td>AVIY68KEPQ5ZD</td>\n",
       "      <td>Movie4</td>\n",
       "      <td>5.0</td>\n",
       "    </tr>\n",
       "    <tr>\n",
       "      <th>...</th>\n",
       "      <td>...</td>\n",
       "      <td>...</td>\n",
       "      <td>...</td>\n",
       "    </tr>\n",
       "    <tr>\n",
       "      <th>998683</th>\n",
       "      <td>A1IMQ9WMFYKWH5</td>\n",
       "      <td>Movie206</td>\n",
       "      <td>5.0</td>\n",
       "    </tr>\n",
       "    <tr>\n",
       "      <th>998684</th>\n",
       "      <td>A1KLIKPUF5E88I</td>\n",
       "      <td>Movie206</td>\n",
       "      <td>5.0</td>\n",
       "    </tr>\n",
       "    <tr>\n",
       "      <th>998685</th>\n",
       "      <td>A5HG6WFZLO10D</td>\n",
       "      <td>Movie206</td>\n",
       "      <td>5.0</td>\n",
       "    </tr>\n",
       "    <tr>\n",
       "      <th>998686</th>\n",
       "      <td>A3UU690TWXCG1X</td>\n",
       "      <td>Movie206</td>\n",
       "      <td>5.0</td>\n",
       "    </tr>\n",
       "    <tr>\n",
       "      <th>998687</th>\n",
       "      <td>AI4J762YI6S06</td>\n",
       "      <td>Movie206</td>\n",
       "      <td>5.0</td>\n",
       "    </tr>\n",
       "  </tbody>\n",
       "</table>\n",
       "<p>5000 rows × 3 columns</p>\n",
       "</div>"
      ],
      "text/plain": [
       "               user_id   item_id  rating\n",
       "0       A3R5OBKS7OM2IR    Movie1     5.0\n",
       "4848    A3R5OBKS7OM2IR    Movie2     5.0\n",
       "9697     AH3QC2PC1VTGP    Movie3     2.0\n",
       "14546   A3LKP6WPMP9UKX    Movie4     5.0\n",
       "14547    AVIY68KEPQ5ZD    Movie4     5.0\n",
       "...                ...       ...     ...\n",
       "998683  A1IMQ9WMFYKWH5  Movie206     5.0\n",
       "998684  A1KLIKPUF5E88I  Movie206     5.0\n",
       "998685   A5HG6WFZLO10D  Movie206     5.0\n",
       "998686  A3UU690TWXCG1X  Movie206     5.0\n",
       "998687   AI4J762YI6S06  Movie206     5.0\n",
       "\n",
       "[5000 rows x 3 columns]"
      ]
     },
     "execution_count": 3,
     "metadata": {},
     "output_type": "execute_result"
    }
   ],
   "source": [
    "ratings"
   ]
  },
  {
   "cell_type": "code",
   "execution_count": 4,
   "id": "1d955287",
   "metadata": {},
   "outputs": [
    {
     "name": "stdout",
     "output_type": "stream",
     "text": [
      "Ratings range between 1.0 and 5.0\n"
     ]
    }
   ],
   "source": [
    "lowest_rating = ratings['rating'].min()\n",
    "highest_rating = ratings['rating'].max()\n",
    "print(\"Ratings range between {0} and {1}\".format(lowest_rating,highest_rating))\n",
    "reader = surprise.Reader(rating_scale = (lowest_rating,highest_rating))"
   ]
  },
  {
   "cell_type": "code",
   "execution_count": 5,
   "id": "57e7a928",
   "metadata": {},
   "outputs": [],
   "source": [
    "data = surprise.Dataset.load_from_df(ratings, reader)"
   ]
  },
  {
   "cell_type": "code",
   "execution_count": 6,
   "id": "811d4c5b",
   "metadata": {},
   "outputs": [
    {
     "data": {
      "text/plain": [
       "{'names': 'cosine', 'user_based': True}"
      ]
     },
     "execution_count": 6,
     "metadata": {},
     "output_type": "execute_result"
    }
   ],
   "source": [
    "similarity_options = {'names':'cosine', 'user_based': True}\n",
    "similarity_options\n"
   ]
  },
  {
   "cell_type": "code",
   "execution_count": 7,
   "id": "05e8b746",
   "metadata": {},
   "outputs": [
    {
     "name": "stdout",
     "output_type": "stream",
     "text": [
      "Computing the msd similarity matrix...\n",
      "Done computing similarity matrix.\n"
     ]
    }
   ],
   "source": [
    "algo = surprise.KNNBasic(sim_options = similarity_options)\n",
    "output = algo.fit(data.build_full_trainset())"
   ]
  },
  {
   "cell_type": "code",
   "execution_count": 8,
   "id": "d7d446a9",
   "metadata": {},
   "outputs": [
    {
     "name": "stdout",
     "output_type": "stream",
     "text": [
      "5.0\n"
     ]
    }
   ],
   "source": [
    "pred = algo.predict(uid = \"A3R5OBKS7OM2IR\", iid = \"Movie1\")\n",
    "score = pred.est\n",
    "print(score)"
   ]
  },
  {
   "cell_type": "code",
   "execution_count": 9,
   "id": "7e01d56e",
   "metadata": {},
   "outputs": [
    {
     "data": {
      "text/plain": [
       "array(['Movie1', 'Movie2', 'Movie3', 'Movie4', 'Movie5', 'Movie6',\n",
       "       'Movie7', 'Movie8', 'Movie9', 'Movie10', 'Movie11', 'Movie12',\n",
       "       'Movie13', 'Movie14', 'Movie15', 'Movie16', 'Movie17', 'Movie18',\n",
       "       'Movie19', 'Movie20', 'Movie21', 'Movie22', 'Movie23', 'Movie24',\n",
       "       'Movie25', 'Movie26', 'Movie27', 'Movie28', 'Movie29', 'Movie30',\n",
       "       'Movie31', 'Movie32', 'Movie33', 'Movie34', 'Movie35', 'Movie36',\n",
       "       'Movie37', 'Movie38', 'Movie39', 'Movie40', 'Movie41', 'Movie42',\n",
       "       'Movie43', 'Movie44', 'Movie45', 'Movie46', 'Movie47', 'Movie48',\n",
       "       'Movie49', 'Movie50', 'Movie51', 'Movie52', 'Movie53', 'Movie54',\n",
       "       'Movie55', 'Movie56', 'Movie57', 'Movie58', 'Movie59', 'Movie60',\n",
       "       'Movie61', 'Movie62', 'Movie63', 'Movie64', 'Movie65', 'Movie66',\n",
       "       'Movie67', 'Movie68', 'Movie69', 'Movie70', 'Movie71', 'Movie72',\n",
       "       'Movie73', 'Movie74', 'Movie75', 'Movie76', 'Movie77', 'Movie78',\n",
       "       'Movie79', 'Movie80', 'Movie81', 'Movie82', 'Movie83', 'Movie84',\n",
       "       'Movie85', 'Movie86', 'Movie87', 'Movie88', 'Movie89', 'Movie90',\n",
       "       'Movie91', 'Movie92', 'Movie93', 'Movie94', 'Movie95', 'Movie96',\n",
       "       'Movie97', 'Movie98', 'Movie99', 'Movie100', 'Movie101',\n",
       "       'Movie102', 'Movie103', 'Movie104', 'Movie105', 'Movie106',\n",
       "       'Movie107', 'Movie108', 'Movie109', 'Movie110', 'Movie111',\n",
       "       'Movie112', 'Movie113', 'Movie114', 'Movie115', 'Movie116',\n",
       "       'Movie117', 'Movie118', 'Movie119', 'Movie120', 'Movie121',\n",
       "       'Movie122', 'Movie123', 'Movie124', 'Movie125', 'Movie126',\n",
       "       'Movie127', 'Movie128', 'Movie129', 'Movie130', 'Movie131',\n",
       "       'Movie132', 'Movie133', 'Movie134', 'Movie135', 'Movie136',\n",
       "       'Movie137', 'Movie138', 'Movie139', 'Movie140', 'Movie141',\n",
       "       'Movie142', 'Movie143', 'Movie144', 'Movie145', 'Movie146',\n",
       "       'Movie147', 'Movie148', 'Movie149', 'Movie150', 'Movie151',\n",
       "       'Movie152', 'Movie153', 'Movie154', 'Movie155', 'Movie156',\n",
       "       'Movie157', 'Movie158', 'Movie159', 'Movie160', 'Movie161',\n",
       "       'Movie162', 'Movie163', 'Movie164', 'Movie165', 'Movie166',\n",
       "       'Movie167', 'Movie168', 'Movie169', 'Movie170', 'Movie171',\n",
       "       'Movie172', 'Movie173', 'Movie174', 'Movie175', 'Movie176',\n",
       "       'Movie177', 'Movie178', 'Movie179', 'Movie180', 'Movie181',\n",
       "       'Movie182', 'Movie183', 'Movie184', 'Movie185', 'Movie186',\n",
       "       'Movie187', 'Movie188', 'Movie189', 'Movie190', 'Movie191',\n",
       "       'Movie192', 'Movie193', 'Movie194', 'Movie195', 'Movie196',\n",
       "       'Movie197', 'Movie198', 'Movie199', 'Movie200', 'Movie201',\n",
       "       'Movie202', 'Movie203', 'Movie204', 'Movie205', 'Movie206'],\n",
       "      dtype=object)"
      ]
     },
     "execution_count": 9,
     "metadata": {},
     "output_type": "execute_result"
    }
   ],
   "source": [
    "iids = ratings['item_id'].unique()\n",
    "iids"
   ]
  },
  {
   "cell_type": "code",
   "execution_count": 10,
   "id": "de4d562c",
   "metadata": {},
   "outputs": [
    {
     "name": "stdout",
     "output_type": "stream",
     "text": [
      "List of iid that uid=13 has rated:\n",
      "Series([], Name: item_id, dtype: object)\n"
     ]
    }
   ],
   "source": [
    "rec_13 = ratings[ratings['user_id'] == 13 ]\n",
    "iids13 = rec_13['item_id']\n",
    "print(\"List of iid that uid={0} has rated:\".format(13))\n",
    "print(iids13)"
   ]
  },
  {
   "cell_type": "code",
   "execution_count": 11,
   "id": "5300a663",
   "metadata": {},
   "outputs": [
    {
     "name": "stdout",
     "output_type": "stream",
     "text": [
      "List of iid which uid=13 did not rate(in all 206) :\n",
      "['Movie1' 'Movie10' 'Movie100' 'Movie101' 'Movie102' 'Movie103' 'Movie104'\n",
      " 'Movie105' 'Movie106' 'Movie107' 'Movie108' 'Movie109' 'Movie11'\n",
      " 'Movie110' 'Movie111' 'Movie112' 'Movie113' 'Movie114' 'Movie115'\n",
      " 'Movie116' 'Movie117' 'Movie118' 'Movie119' 'Movie12' 'Movie120'\n",
      " 'Movie121' 'Movie122' 'Movie123' 'Movie124' 'Movie125' 'Movie126'\n",
      " 'Movie127' 'Movie128' 'Movie129' 'Movie13' 'Movie130' 'Movie131'\n",
      " 'Movie132' 'Movie133' 'Movie134' 'Movie135' 'Movie136' 'Movie137'\n",
      " 'Movie138' 'Movie139' 'Movie14' 'Movie140' 'Movie141' 'Movie142'\n",
      " 'Movie143' 'Movie144' 'Movie145' 'Movie146' 'Movie147' 'Movie148'\n",
      " 'Movie149' 'Movie15' 'Movie150' 'Movie151' 'Movie152' 'Movie153'\n",
      " 'Movie154' 'Movie155' 'Movie156' 'Movie157' 'Movie158' 'Movie159'\n",
      " 'Movie16' 'Movie160' 'Movie161' 'Movie162' 'Movie163' 'Movie164'\n",
      " 'Movie165' 'Movie166' 'Movie167' 'Movie168' 'Movie169' 'Movie17'\n",
      " 'Movie170' 'Movie171' 'Movie172' 'Movie173' 'Movie174' 'Movie175'\n",
      " 'Movie176' 'Movie177' 'Movie178' 'Movie179' 'Movie18' 'Movie180'\n",
      " 'Movie181' 'Movie182' 'Movie183' 'Movie184' 'Movie185' 'Movie186'\n",
      " 'Movie187' 'Movie188' 'Movie189' 'Movie19' 'Movie190' 'Movie191'\n",
      " 'Movie192' 'Movie193' 'Movie194' 'Movie195' 'Movie196' 'Movie197'\n",
      " 'Movie198' 'Movie199' 'Movie2' 'Movie20' 'Movie200' 'Movie201' 'Movie202'\n",
      " 'Movie203' 'Movie204' 'Movie205' 'Movie206' 'Movie21' 'Movie22' 'Movie23'\n",
      " 'Movie24' 'Movie25' 'Movie26' 'Movie27' 'Movie28' 'Movie29' 'Movie3'\n",
      " 'Movie30' 'Movie31' 'Movie32' 'Movie33' 'Movie34' 'Movie35' 'Movie36'\n",
      " 'Movie37' 'Movie38' 'Movie39' 'Movie4' 'Movie40' 'Movie41' 'Movie42'\n",
      " 'Movie43' 'Movie44' 'Movie45' 'Movie46' 'Movie47' 'Movie48' 'Movie49'\n",
      " 'Movie5' 'Movie50' 'Movie51' 'Movie52' 'Movie53' 'Movie54' 'Movie55'\n",
      " 'Movie56' 'Movie57' 'Movie58' 'Movie59' 'Movie6' 'Movie60' 'Movie61'\n",
      " 'Movie62' 'Movie63' 'Movie64' 'Movie65' 'Movie66' 'Movie67' 'Movie68'\n",
      " 'Movie69' 'Movie7' 'Movie70' 'Movie71' 'Movie72' 'Movie73' 'Movie74'\n",
      " 'Movie75' 'Movie76' 'Movie77' 'Movie78' 'Movie79' 'Movie8' 'Movie80'\n",
      " 'Movie81' 'Movie82' 'Movie83' 'Movie84' 'Movie85' 'Movie86' 'Movie87'\n",
      " 'Movie88' 'Movie89' 'Movie9' 'Movie90' 'Movie91' 'Movie92' 'Movie93'\n",
      " 'Movie94' 'Movie95' 'Movie96' 'Movie97' 'Movie98' 'Movie99']\n"
     ]
    }
   ],
   "source": [
    "iids_to_predict = np.setdiff1d(iids,iids13)\n",
    "print(\"List of iid which uid={0} did not rate(in all {1}) :\".format(13,len(iids_to_predict)))\n",
    "print(iids_to_predict)"
   ]
  },
  {
   "cell_type": "code",
   "execution_count": 12,
   "id": "bd517d54",
   "metadata": {},
   "outputs": [
    {
     "data": {
      "text/plain": [
       "[[13, 'Movie1', 0.0],\n",
       " [13, 'Movie10', 0.0],\n",
       " [13, 'Movie100', 0.0],\n",
       " [13, 'Movie101', 0.0],\n",
       " [13, 'Movie102', 0.0],\n",
       " [13, 'Movie103', 0.0],\n",
       " [13, 'Movie104', 0.0],\n",
       " [13, 'Movie105', 0.0],\n",
       " [13, 'Movie106', 0.0],\n",
       " [13, 'Movie107', 0.0],\n",
       " [13, 'Movie108', 0.0],\n",
       " [13, 'Movie109', 0.0],\n",
       " [13, 'Movie11', 0.0],\n",
       " [13, 'Movie110', 0.0],\n",
       " [13, 'Movie111', 0.0],\n",
       " [13, 'Movie112', 0.0],\n",
       " [13, 'Movie113', 0.0],\n",
       " [13, 'Movie114', 0.0],\n",
       " [13, 'Movie115', 0.0],\n",
       " [13, 'Movie116', 0.0],\n",
       " [13, 'Movie117', 0.0],\n",
       " [13, 'Movie118', 0.0],\n",
       " [13, 'Movie119', 0.0],\n",
       " [13, 'Movie12', 0.0],\n",
       " [13, 'Movie120', 0.0],\n",
       " [13, 'Movie121', 0.0],\n",
       " [13, 'Movie122', 0.0],\n",
       " [13, 'Movie123', 0.0],\n",
       " [13, 'Movie124', 0.0],\n",
       " [13, 'Movie125', 0.0],\n",
       " [13, 'Movie126', 0.0],\n",
       " [13, 'Movie127', 0.0],\n",
       " [13, 'Movie128', 0.0],\n",
       " [13, 'Movie129', 0.0],\n",
       " [13, 'Movie13', 0.0],\n",
       " [13, 'Movie130', 0.0],\n",
       " [13, 'Movie131', 0.0],\n",
       " [13, 'Movie132', 0.0],\n",
       " [13, 'Movie133', 0.0],\n",
       " [13, 'Movie134', 0.0],\n",
       " [13, 'Movie135', 0.0],\n",
       " [13, 'Movie136', 0.0],\n",
       " [13, 'Movie137', 0.0],\n",
       " [13, 'Movie138', 0.0],\n",
       " [13, 'Movie139', 0.0],\n",
       " [13, 'Movie14', 0.0],\n",
       " [13, 'Movie140', 0.0],\n",
       " [13, 'Movie141', 0.0],\n",
       " [13, 'Movie142', 0.0],\n",
       " [13, 'Movie143', 0.0],\n",
       " [13, 'Movie144', 0.0],\n",
       " [13, 'Movie145', 0.0],\n",
       " [13, 'Movie146', 0.0],\n",
       " [13, 'Movie147', 0.0],\n",
       " [13, 'Movie148', 0.0],\n",
       " [13, 'Movie149', 0.0],\n",
       " [13, 'Movie15', 0.0],\n",
       " [13, 'Movie150', 0.0],\n",
       " [13, 'Movie151', 0.0],\n",
       " [13, 'Movie152', 0.0],\n",
       " [13, 'Movie153', 0.0],\n",
       " [13, 'Movie154', 0.0],\n",
       " [13, 'Movie155', 0.0],\n",
       " [13, 'Movie156', 0.0],\n",
       " [13, 'Movie157', 0.0],\n",
       " [13, 'Movie158', 0.0],\n",
       " [13, 'Movie159', 0.0],\n",
       " [13, 'Movie16', 0.0],\n",
       " [13, 'Movie160', 0.0],\n",
       " [13, 'Movie161', 0.0],\n",
       " [13, 'Movie162', 0.0],\n",
       " [13, 'Movie163', 0.0],\n",
       " [13, 'Movie164', 0.0],\n",
       " [13, 'Movie165', 0.0],\n",
       " [13, 'Movie166', 0.0],\n",
       " [13, 'Movie167', 0.0],\n",
       " [13, 'Movie168', 0.0],\n",
       " [13, 'Movie169', 0.0],\n",
       " [13, 'Movie17', 0.0],\n",
       " [13, 'Movie170', 0.0],\n",
       " [13, 'Movie171', 0.0],\n",
       " [13, 'Movie172', 0.0],\n",
       " [13, 'Movie173', 0.0],\n",
       " [13, 'Movie174', 0.0],\n",
       " [13, 'Movie175', 0.0],\n",
       " [13, 'Movie176', 0.0],\n",
       " [13, 'Movie177', 0.0],\n",
       " [13, 'Movie178', 0.0],\n",
       " [13, 'Movie179', 0.0],\n",
       " [13, 'Movie18', 0.0],\n",
       " [13, 'Movie180', 0.0],\n",
       " [13, 'Movie181', 0.0],\n",
       " [13, 'Movie182', 0.0],\n",
       " [13, 'Movie183', 0.0],\n",
       " [13, 'Movie184', 0.0],\n",
       " [13, 'Movie185', 0.0],\n",
       " [13, 'Movie186', 0.0],\n",
       " [13, 'Movie187', 0.0],\n",
       " [13, 'Movie188', 0.0],\n",
       " [13, 'Movie189', 0.0],\n",
       " [13, 'Movie19', 0.0],\n",
       " [13, 'Movie190', 0.0],\n",
       " [13, 'Movie191', 0.0],\n",
       " [13, 'Movie192', 0.0],\n",
       " [13, 'Movie193', 0.0],\n",
       " [13, 'Movie194', 0.0],\n",
       " [13, 'Movie195', 0.0],\n",
       " [13, 'Movie196', 0.0],\n",
       " [13, 'Movie197', 0.0],\n",
       " [13, 'Movie198', 0.0],\n",
       " [13, 'Movie199', 0.0],\n",
       " [13, 'Movie2', 0.0],\n",
       " [13, 'Movie20', 0.0],\n",
       " [13, 'Movie200', 0.0],\n",
       " [13, 'Movie201', 0.0],\n",
       " [13, 'Movie202', 0.0],\n",
       " [13, 'Movie203', 0.0],\n",
       " [13, 'Movie204', 0.0],\n",
       " [13, 'Movie205', 0.0],\n",
       " [13, 'Movie206', 0.0],\n",
       " [13, 'Movie21', 0.0],\n",
       " [13, 'Movie22', 0.0],\n",
       " [13, 'Movie23', 0.0],\n",
       " [13, 'Movie24', 0.0],\n",
       " [13, 'Movie25', 0.0],\n",
       " [13, 'Movie26', 0.0],\n",
       " [13, 'Movie27', 0.0],\n",
       " [13, 'Movie28', 0.0],\n",
       " [13, 'Movie29', 0.0],\n",
       " [13, 'Movie3', 0.0],\n",
       " [13, 'Movie30', 0.0],\n",
       " [13, 'Movie31', 0.0],\n",
       " [13, 'Movie32', 0.0],\n",
       " [13, 'Movie33', 0.0],\n",
       " [13, 'Movie34', 0.0],\n",
       " [13, 'Movie35', 0.0],\n",
       " [13, 'Movie36', 0.0],\n",
       " [13, 'Movie37', 0.0],\n",
       " [13, 'Movie38', 0.0],\n",
       " [13, 'Movie39', 0.0],\n",
       " [13, 'Movie4', 0.0],\n",
       " [13, 'Movie40', 0.0],\n",
       " [13, 'Movie41', 0.0],\n",
       " [13, 'Movie42', 0.0],\n",
       " [13, 'Movie43', 0.0],\n",
       " [13, 'Movie44', 0.0],\n",
       " [13, 'Movie45', 0.0],\n",
       " [13, 'Movie46', 0.0],\n",
       " [13, 'Movie47', 0.0],\n",
       " [13, 'Movie48', 0.0],\n",
       " [13, 'Movie49', 0.0],\n",
       " [13, 'Movie5', 0.0],\n",
       " [13, 'Movie50', 0.0],\n",
       " [13, 'Movie51', 0.0],\n",
       " [13, 'Movie52', 0.0],\n",
       " [13, 'Movie53', 0.0],\n",
       " [13, 'Movie54', 0.0],\n",
       " [13, 'Movie55', 0.0],\n",
       " [13, 'Movie56', 0.0],\n",
       " [13, 'Movie57', 0.0],\n",
       " [13, 'Movie58', 0.0],\n",
       " [13, 'Movie59', 0.0],\n",
       " [13, 'Movie6', 0.0],\n",
       " [13, 'Movie60', 0.0],\n",
       " [13, 'Movie61', 0.0],\n",
       " [13, 'Movie62', 0.0],\n",
       " [13, 'Movie63', 0.0],\n",
       " [13, 'Movie64', 0.0],\n",
       " [13, 'Movie65', 0.0],\n",
       " [13, 'Movie66', 0.0],\n",
       " [13, 'Movie67', 0.0],\n",
       " [13, 'Movie68', 0.0],\n",
       " [13, 'Movie69', 0.0],\n",
       " [13, 'Movie7', 0.0],\n",
       " [13, 'Movie70', 0.0],\n",
       " [13, 'Movie71', 0.0],\n",
       " [13, 'Movie72', 0.0],\n",
       " [13, 'Movie73', 0.0],\n",
       " [13, 'Movie74', 0.0],\n",
       " [13, 'Movie75', 0.0],\n",
       " [13, 'Movie76', 0.0],\n",
       " [13, 'Movie77', 0.0],\n",
       " [13, 'Movie78', 0.0],\n",
       " [13, 'Movie79', 0.0],\n",
       " [13, 'Movie8', 0.0],\n",
       " [13, 'Movie80', 0.0],\n",
       " [13, 'Movie81', 0.0],\n",
       " [13, 'Movie82', 0.0],\n",
       " [13, 'Movie83', 0.0],\n",
       " [13, 'Movie84', 0.0],\n",
       " [13, 'Movie85', 0.0],\n",
       " [13, 'Movie86', 0.0],\n",
       " [13, 'Movie87', 0.0],\n",
       " [13, 'Movie88', 0.0],\n",
       " [13, 'Movie89', 0.0],\n",
       " [13, 'Movie9', 0.0],\n",
       " [13, 'Movie90', 0.0],\n",
       " [13, 'Movie91', 0.0],\n",
       " [13, 'Movie92', 0.0],\n",
       " [13, 'Movie93', 0.0],\n",
       " [13, 'Movie94', 0.0],\n",
       " [13, 'Movie95', 0.0],\n",
       " [13, 'Movie96', 0.0],\n",
       " [13, 'Movie97', 0.0],\n",
       " [13, 'Movie98', 0.0],\n",
       " [13, 'Movie99', 0.0]]"
      ]
     },
     "execution_count": 12,
     "metadata": {},
     "output_type": "execute_result"
    }
   ],
   "source": [
    "testset = [[13,iid,0.] for iid in iids_to_predict]\n",
    "testset"
   ]
  },
  {
   "cell_type": "code",
   "execution_count": 13,
   "id": "f5f0c042",
   "metadata": {},
   "outputs": [
    {
     "data": {
      "text/plain": [
       "Prediction(uid=13, iid='Movie103', r_ui=0.0, est=4.3856, details={'was_impossible': True, 'reason': 'User and/or item is unknown.'})"
      ]
     },
     "execution_count": 13,
     "metadata": {},
     "output_type": "execute_result"
    }
   ],
   "source": [
    "predictions = algo.test(testset)\n",
    "predictions[5]"
   ]
  },
  {
   "cell_type": "code",
   "execution_count": 14,
   "id": "cdbdfb59",
   "metadata": {},
   "outputs": [
    {
     "data": {
      "text/plain": [
       "array([4.3856, 4.3856, 4.3856, 4.3856, 4.3856, 4.3856, 4.3856, 4.3856,\n",
       "       4.3856, 4.3856, 4.3856, 4.3856, 4.3856, 4.3856, 4.3856, 4.3856,\n",
       "       4.3856, 4.3856, 4.3856, 4.3856, 4.3856, 4.3856, 4.3856, 4.3856,\n",
       "       4.3856, 4.3856, 4.3856, 4.3856, 4.3856, 4.3856, 4.3856, 4.3856,\n",
       "       4.3856, 4.3856, 4.3856, 4.3856, 4.3856, 4.3856, 4.3856, 4.3856,\n",
       "       4.3856, 4.3856, 4.3856, 4.3856, 4.3856, 4.3856, 4.3856, 4.3856,\n",
       "       4.3856, 4.3856, 4.3856, 4.3856, 4.3856, 4.3856, 4.3856, 4.3856,\n",
       "       4.3856, 4.3856, 4.3856, 4.3856, 4.3856, 4.3856, 4.3856, 4.3856,\n",
       "       4.3856, 4.3856, 4.3856, 4.3856, 4.3856, 4.3856, 4.3856, 4.3856,\n",
       "       4.3856, 4.3856, 4.3856, 4.3856, 4.3856, 4.3856, 4.3856, 4.3856,\n",
       "       4.3856, 4.3856, 4.3856, 4.3856, 4.3856, 4.3856, 4.3856, 4.3856,\n",
       "       4.3856, 4.3856, 4.3856, 4.3856, 4.3856, 4.3856, 4.3856, 4.3856,\n",
       "       4.3856, 4.3856, 4.3856, 4.3856, 4.3856, 4.3856, 4.3856, 4.3856,\n",
       "       4.3856, 4.3856, 4.3856, 4.3856, 4.3856, 4.3856, 4.3856, 4.3856,\n",
       "       4.3856, 4.3856, 4.3856, 4.3856, 4.3856, 4.3856, 4.3856, 4.3856,\n",
       "       4.3856, 4.3856, 4.3856, 4.3856, 4.3856, 4.3856, 4.3856, 4.3856,\n",
       "       4.3856, 4.3856, 4.3856, 4.3856, 4.3856, 4.3856, 4.3856, 4.3856,\n",
       "       4.3856, 4.3856, 4.3856, 4.3856, 4.3856, 4.3856, 4.3856, 4.3856,\n",
       "       4.3856, 4.3856, 4.3856, 4.3856, 4.3856, 4.3856, 4.3856, 4.3856,\n",
       "       4.3856, 4.3856, 4.3856, 4.3856, 4.3856, 4.3856, 4.3856, 4.3856,\n",
       "       4.3856, 4.3856, 4.3856, 4.3856, 4.3856, 4.3856, 4.3856, 4.3856,\n",
       "       4.3856, 4.3856, 4.3856, 4.3856, 4.3856, 4.3856, 4.3856, 4.3856,\n",
       "       4.3856, 4.3856, 4.3856, 4.3856, 4.3856, 4.3856, 4.3856, 4.3856,\n",
       "       4.3856, 4.3856, 4.3856, 4.3856, 4.3856, 4.3856, 4.3856, 4.3856,\n",
       "       4.3856, 4.3856, 4.3856, 4.3856, 4.3856, 4.3856, 4.3856, 4.3856,\n",
       "       4.3856, 4.3856, 4.3856, 4.3856, 4.3856, 4.3856])"
      ]
     },
     "execution_count": 14,
     "metadata": {},
     "output_type": "execute_result"
    }
   ],
   "source": [
    "pred_ratings = np.array([pred.est for pred in predictions])\n",
    "pred_ratings"
   ]
  },
  {
   "cell_type": "code",
   "execution_count": 15,
   "id": "974f0ad4",
   "metadata": {},
   "outputs": [
    {
     "data": {
      "text/plain": [
       "array(['Movie1', 'Movie10', 'Movie100', 'Movie101', 'Movie102',\n",
       "       'Movie103', 'Movie104', 'Movie105', 'Movie106', 'Movie107',\n",
       "       'Movie108', 'Movie109', 'Movie11', 'Movie110', 'Movie111',\n",
       "       'Movie112', 'Movie113', 'Movie114', 'Movie115', 'Movie116',\n",
       "       'Movie117', 'Movie118', 'Movie119', 'Movie12', 'Movie120',\n",
       "       'Movie121', 'Movie122', 'Movie123', 'Movie124', 'Movie125',\n",
       "       'Movie126', 'Movie127', 'Movie128', 'Movie129', 'Movie13',\n",
       "       'Movie130', 'Movie131', 'Movie132', 'Movie133', 'Movie134',\n",
       "       'Movie135', 'Movie136', 'Movie137', 'Movie138', 'Movie139',\n",
       "       'Movie14', 'Movie140', 'Movie141', 'Movie142', 'Movie143',\n",
       "       'Movie144', 'Movie145', 'Movie146', 'Movie147', 'Movie148',\n",
       "       'Movie149', 'Movie15', 'Movie150', 'Movie151', 'Movie152',\n",
       "       'Movie153', 'Movie154', 'Movie155', 'Movie156', 'Movie157',\n",
       "       'Movie158', 'Movie159', 'Movie16', 'Movie160', 'Movie161',\n",
       "       'Movie162', 'Movie163', 'Movie164', 'Movie165', 'Movie166',\n",
       "       'Movie167', 'Movie168', 'Movie169', 'Movie17', 'Movie170',\n",
       "       'Movie171', 'Movie172', 'Movie173', 'Movie174', 'Movie175',\n",
       "       'Movie176', 'Movie177', 'Movie178', 'Movie179', 'Movie18',\n",
       "       'Movie180', 'Movie181', 'Movie182', 'Movie183', 'Movie184',\n",
       "       'Movie185', 'Movie186', 'Movie187', 'Movie188', 'Movie189',\n",
       "       'Movie19', 'Movie190', 'Movie191', 'Movie192', 'Movie193',\n",
       "       'Movie194', 'Movie195', 'Movie196', 'Movie197', 'Movie198',\n",
       "       'Movie199', 'Movie2', 'Movie20', 'Movie200', 'Movie201',\n",
       "       'Movie202', 'Movie203', 'Movie204', 'Movie205', 'Movie206',\n",
       "       'Movie21', 'Movie22', 'Movie23', 'Movie24', 'Movie25', 'Movie26',\n",
       "       'Movie27', 'Movie28', 'Movie29', 'Movie3', 'Movie30', 'Movie31',\n",
       "       'Movie32', 'Movie33', 'Movie34', 'Movie35', 'Movie36', 'Movie37',\n",
       "       'Movie38', 'Movie39', 'Movie4', 'Movie40', 'Movie41', 'Movie42',\n",
       "       'Movie43', 'Movie44', 'Movie45', 'Movie46', 'Movie47', 'Movie48',\n",
       "       'Movie49', 'Movie5', 'Movie50', 'Movie51', 'Movie52', 'Movie53',\n",
       "       'Movie54', 'Movie55', 'Movie56', 'Movie57', 'Movie58', 'Movie59',\n",
       "       'Movie6', 'Movie60', 'Movie61', 'Movie62', 'Movie63', 'Movie64',\n",
       "       'Movie65', 'Movie66', 'Movie67', 'Movie68', 'Movie69', 'Movie7',\n",
       "       'Movie70', 'Movie71', 'Movie72', 'Movie73', 'Movie74', 'Movie75',\n",
       "       'Movie76', 'Movie77', 'Movie78', 'Movie79', 'Movie8', 'Movie80',\n",
       "       'Movie81', 'Movie82', 'Movie83', 'Movie84', 'Movie85', 'Movie86',\n",
       "       'Movie87', 'Movie88', 'Movie89', 'Movie9', 'Movie90', 'Movie91',\n",
       "       'Movie92', 'Movie93', 'Movie94', 'Movie95', 'Movie96', 'Movie97',\n",
       "       'Movie98', 'Movie99'], dtype=object)"
      ]
     },
     "execution_count": 15,
     "metadata": {},
     "output_type": "execute_result"
    }
   ],
   "source": [
    "iids_to_predict"
   ]
  },
  {
   "cell_type": "code",
   "execution_count": 16,
   "id": "993a9a5a",
   "metadata": {},
   "outputs": [
    {
     "data": {
      "text/plain": [
       "0"
      ]
     },
     "execution_count": 16,
     "metadata": {},
     "output_type": "execute_result"
    }
   ],
   "source": [
    "i_max = pred_ratings.argmax()\n",
    "i_max"
   ]
  },
  {
   "cell_type": "code",
   "execution_count": 17,
   "id": "ce20e74a",
   "metadata": {},
   "outputs": [
    {
     "name": "stdout",
     "output_type": "stream",
     "text": [
      "Top item to be recommended for user 13 is Movie1 with predicted rating as 4.3856\n"
     ]
    }
   ],
   "source": [
    "iid_recommend_most = iids_to_predict[i_max] \n",
    "print(\"Top item to be recommended for user {0} is {1} with predicted rating as {2}\".format(13,iid_recommend_most,pred_ratings[i_max]))"
   ]
  },
  {
   "cell_type": "code",
   "execution_count": 18,
   "id": "1861fc58",
   "metadata": {},
   "outputs": [
    {
     "name": "stdout",
     "output_type": "stream",
     "text": [
      "['Movie1' 'Movie10' 'Movie100' 'Movie101' 'Movie102' 'Movie103' 'Movie104'\n",
      " 'Movie105' 'Movie106' 'Movie107']\n"
     ]
    }
   ],
   "source": [
    "import heapq\n",
    "i_sorted_10 = heapq.nlargest(10,  range(len(pred_ratings)), pred_ratings.take)\n",
    "top_10_items = iids_to_predict[i_sorted_10]\n",
    "print(top_10_items)"
   ]
  },
  {
   "cell_type": "code",
   "execution_count": 19,
   "id": "2e630667",
   "metadata": {},
   "outputs": [
    {
     "data": {
      "text/plain": [
       "array([ 20,  30,  40,  50,  60,  70,  80,  90, 100])"
      ]
     },
     "execution_count": 19,
     "metadata": {},
     "output_type": "execute_result"
    }
   ],
   "source": [
    "np.arange(20,110,10)"
   ]
  },
  {
   "cell_type": "code",
   "execution_count": 20,
   "id": "914ab656",
   "metadata": {},
   "outputs": [],
   "source": [
    "from surprise.model_selection import GridSearchCV\n",
    "from surprise.model_selection.split import KFold\n",
    "\n",
    "param_grid = {'k': np.arange(30,110,10)}\n",
    "kfold = KFold(n_splits=5, random_state=2021, shuffle=True)\n",
    "gs = GridSearchCV(surprise.KNNBasic, param_grid, measures=['rmse', 'mae'], cv=kfold)"
   ]
  },
  {
   "cell_type": "code",
   "execution_count": 21,
   "id": "8ca67733",
   "metadata": {},
   "outputs": [
    {
     "name": "stdout",
     "output_type": "stream",
     "text": [
      "Computing the msd similarity matrix...\n",
      "Done computing similarity matrix.\n",
      "Computing the msd similarity matrix...\n",
      "Done computing similarity matrix.\n",
      "Computing the msd similarity matrix...\n",
      "Done computing similarity matrix.\n",
      "Computing the msd similarity matrix...\n",
      "Done computing similarity matrix.\n",
      "Computing the msd similarity matrix...\n",
      "Done computing similarity matrix.\n",
      "Computing the msd similarity matrix...\n",
      "Done computing similarity matrix.\n",
      "Computing the msd similarity matrix...\n",
      "Done computing similarity matrix.\n",
      "Computing the msd similarity matrix...\n",
      "Done computing similarity matrix.\n",
      "Computing the msd similarity matrix...\n",
      "Done computing similarity matrix.\n",
      "Computing the msd similarity matrix...\n",
      "Done computing similarity matrix.\n",
      "Computing the msd similarity matrix...\n",
      "Done computing similarity matrix.\n",
      "Computing the msd similarity matrix...\n",
      "Done computing similarity matrix.\n",
      "Computing the msd similarity matrix...\n",
      "Done computing similarity matrix.\n",
      "Computing the msd similarity matrix...\n",
      "Done computing similarity matrix.\n",
      "Computing the msd similarity matrix...\n",
      "Done computing similarity matrix.\n",
      "Computing the msd similarity matrix...\n",
      "Done computing similarity matrix.\n",
      "Computing the msd similarity matrix...\n",
      "Done computing similarity matrix.\n",
      "Computing the msd similarity matrix...\n",
      "Done computing similarity matrix.\n",
      "Computing the msd similarity matrix...\n",
      "Done computing similarity matrix.\n",
      "Computing the msd similarity matrix...\n",
      "Done computing similarity matrix.\n",
      "Computing the msd similarity matrix...\n",
      "Done computing similarity matrix.\n",
      "Computing the msd similarity matrix...\n",
      "Done computing similarity matrix.\n",
      "Computing the msd similarity matrix...\n",
      "Done computing similarity matrix.\n",
      "Computing the msd similarity matrix...\n",
      "Done computing similarity matrix.\n",
      "Computing the msd similarity matrix...\n",
      "Done computing similarity matrix.\n",
      "Computing the msd similarity matrix...\n",
      "Done computing similarity matrix.\n",
      "Computing the msd similarity matrix...\n",
      "Done computing similarity matrix.\n",
      "Computing the msd similarity matrix...\n",
      "Done computing similarity matrix.\n",
      "Computing the msd similarity matrix...\n",
      "Done computing similarity matrix.\n",
      "Computing the msd similarity matrix...\n",
      "Done computing similarity matrix.\n",
      "Computing the msd similarity matrix...\n",
      "Done computing similarity matrix.\n",
      "Computing the msd similarity matrix...\n",
      "Done computing similarity matrix.\n",
      "Computing the msd similarity matrix...\n",
      "Done computing similarity matrix.\n",
      "Computing the msd similarity matrix...\n",
      "Done computing similarity matrix.\n",
      "Computing the msd similarity matrix...\n",
      "Done computing similarity matrix.\n",
      "Computing the msd similarity matrix...\n",
      "Done computing similarity matrix.\n",
      "Computing the msd similarity matrix...\n",
      "Done computing similarity matrix.\n",
      "Computing the msd similarity matrix...\n",
      "Done computing similarity matrix.\n",
      "Computing the msd similarity matrix...\n",
      "Done computing similarity matrix.\n",
      "Computing the msd similarity matrix...\n",
      "Done computing similarity matrix.\n"
     ]
    }
   ],
   "source": [
    "gs.fit(data)"
   ]
  },
  {
   "cell_type": "markdown",
   "id": "e3cc1579",
   "metadata": {},
   "source": [
    "## Best score"
   ]
  },
  {
   "cell_type": "code",
   "execution_count": 24,
   "id": "7eca9b47",
   "metadata": {},
   "outputs": [
    {
     "name": "stdout",
     "output_type": "stream",
     "text": [
      "1.1999972199459112\n"
     ]
    }
   ],
   "source": [
    "print(gs.best_score['rmse'])"
   ]
  },
  {
   "cell_type": "markdown",
   "id": "8a563fb9",
   "metadata": {},
   "source": [
    "## Best params"
   ]
  },
  {
   "cell_type": "code",
   "execution_count": 25,
   "id": "d005ca9f",
   "metadata": {},
   "outputs": [
    {
     "name": "stdout",
     "output_type": "stream",
     "text": [
      "{'k': 30}\n"
     ]
    }
   ],
   "source": [
    "print(gs.best_params['rmse'])"
   ]
  },
  {
   "cell_type": "code",
   "execution_count": null,
   "id": "081c5bf6",
   "metadata": {},
   "outputs": [],
   "source": []
  },
  {
   "cell_type": "code",
   "execution_count": null,
   "id": "4e09c460",
   "metadata": {},
   "outputs": [],
   "source": []
  }
 ],
 "metadata": {
  "kernelspec": {
   "display_name": "Python 3 (ipykernel)",
   "language": "python",
   "name": "python3"
  },
  "language_info": {
   "codemirror_mode": {
    "name": "ipython",
    "version": 3
   },
   "file_extension": ".py",
   "mimetype": "text/x-python",
   "name": "python",
   "nbconvert_exporter": "python",
   "pygments_lexer": "ipython3",
   "version": "3.9.15"
  }
 },
 "nbformat": 4,
 "nbformat_minor": 5
}
