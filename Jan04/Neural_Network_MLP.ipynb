{
 "cells": [
  {
   "cell_type": "code",
   "execution_count": 1,
   "id": "1c0bf124",
   "metadata": {},
   "outputs": [],
   "source": [
    "import numpy as np\n",
    "import pandas as pd\n",
    "from sklearn.neural_network import MLPClassifier, MLPRegressor\n",
    "from sklearn.metrics import accuracy_score, roc_auc_score\n",
    "from sklearn.model_selection import train_test_split, StratifiedKFold, GridSearchCV, KFold\n",
    "from sklearn.preprocessing import MinMaxScaler\n",
    "from sklearn.pipeline import Pipeline\n",
    "import os"
   ]
  },
  {
   "cell_type": "markdown",
   "id": "d98732f0",
   "metadata": {},
   "source": [
    "## Concrete"
   ]
  },
  {
   "cell_type": "code",
   "execution_count": 2,
   "id": "1969d5b2",
   "metadata": {},
   "outputs": [],
   "source": [
    "os.chdir(r\"C:\\PG_DBDA\\Machine_Learning\\Machine-Learning\\Cases\\Concrete Strength\")"
   ]
  },
  {
   "cell_type": "code",
   "execution_count": 3,
   "id": "1613e5f0",
   "metadata": {},
   "outputs": [],
   "source": [
    "concrete = pd.read_csv(\"Concrete_Data.csv\")"
   ]
  },
  {
   "cell_type": "code",
   "execution_count": 11,
   "id": "5777abb3",
   "metadata": {},
   "outputs": [],
   "source": [
    "X = concrete.drop('Strength', axis = 1)\n",
    "y = concrete['Strength']\n"
   ]
  },
  {
   "cell_type": "code",
   "execution_count": 12,
   "id": "59ec8e7a",
   "metadata": {},
   "outputs": [
    {
     "name": "stdout",
     "output_type": "stream",
     "text": [
      "Fitting 5 folds for each of 81 candidates, totalling 405 fits\n",
      "{'MLP__activation': 'logistic', 'MLP__hidden_layer_sizes': (10,), 'MLP__learning_rate': 'constant', 'MLP__learning_rate_init': 0.5}\n",
      "0.7236732800450039\n",
      "Wall time: 9.73 s\n"
     ]
    }
   ],
   "source": [
    "%%time\n",
    "mm = MinMaxScaler()\n",
    "mlp = MLPRegressor(random_state = 2022)\n",
    "pipe = Pipeline([('MM', mm),('MLP', mlp)])\n",
    "params = {'MLP__hidden_layer_sizes': [(6,4,3),(7,5),(10,)],\n",
    "         'MLP__learning_rate': ['constant', 'invscaling', 'adaptive'],\n",
    "          'MLP__activation': ['tanh', 'logistic', 'identity'],\n",
    "         'MLP__learning_rate_init': [0.001, 0.3, 0.5]}\n",
    "kfold = KFold(n_splits = 5 , shuffle = True, random_state = 2022)\n",
    "gcv = GridSearchCV(pipe, param_grid = params, cv = kfold, scoring = 'r2', n_jobs = -1, verbose = 3)\n",
    "gcv.fit(X, y)\n",
    "print(gcv.best_params_)\n",
    "print(gcv.best_score_)"
   ]
  },
  {
   "cell_type": "markdown",
   "id": "06837c89",
   "metadata": {},
   "source": [
    "## hr\n"
   ]
  },
  {
   "cell_type": "code",
   "execution_count": 6,
   "id": "9217a6f6",
   "metadata": {},
   "outputs": [],
   "source": [
    "os.chdir(r\"C:\\PG_DBDA\\Machine_Learning\\Machine-Learning\\Cases\\human-resources-analytics\")"
   ]
  },
  {
   "cell_type": "code",
   "execution_count": 7,
   "id": "60c9c435",
   "metadata": {},
   "outputs": [],
   "source": [
    "hr = pd.read_csv(\"HR_comma_sep.csv\")"
   ]
  },
  {
   "cell_type": "code",
   "execution_count": 8,
   "id": "7188471f",
   "metadata": {},
   "outputs": [],
   "source": [
    "hr_dum = pd.get_dummies(hr, drop_first = True)\n",
    "X = hr_dum.drop('left', axis = 1)\n",
    "y = hr_dum['left']\n"
   ]
  },
  {
   "cell_type": "code",
   "execution_count": 10,
   "id": "a67fa792",
   "metadata": {},
   "outputs": [
    {
     "name": "stdout",
     "output_type": "stream",
     "text": [
      "Fitting 5 folds for each of 81 candidates, totalling 405 fits\n",
      "{'MLP__activation': 'tanh', 'MLP__hidden_layer_sizes': (40, 30, 10), 'MLP__learning_rate': 'constant', 'MLP__learning_rate_init': 0.001}\n",
      "0.9846420990748508\n",
      "Wall time: 3min 31s\n"
     ]
    },
    {
     "name": "stderr",
     "output_type": "stream",
     "text": [
      "C:\\Users\\HP\\anaconda3\\lib\\site-packages\\sklearn\\neural_network\\_multilayer_perceptron.py:679: ConvergenceWarning: Stochastic Optimizer: Maximum iterations (200) reached and the optimization hasn't converged yet.\n",
      "  warnings.warn(\n"
     ]
    }
   ],
   "source": [
    "%%time\n",
    "\n",
    "mm = MinMaxScaler()\n",
    "mlp = MLPClassifier(random_state = 2022)\n",
    "pipe = Pipeline([('MM', mm),('MLP', mlp)])\n",
    "params = {'MLP__hidden_layer_sizes': [(20, 10, 5),(30, 20, 10),(40, 30, 10)],\n",
    "          'MLP__activation': ['tanh', 'logistic', 'identity'],\n",
    "         'MLP__learning_rate': ['constant', 'invscaling', 'adaptive'],\n",
    "         'MLP__learning_rate_init': [0.001, 0.3, 0.5]}\n",
    "kfold = StratifiedKFold(n_splits = 5 , shuffle = True, random_state = 2022)\n",
    "gcv = GridSearchCV(pipe, param_grid = params, cv = kfold, scoring = 'roc_auc', n_jobs = -1, verbose = 3)\n",
    "gcv.fit(X, y)\n",
    "print(gcv.best_params_)\n",
    "print(gcv.best_score_)"
   ]
  },
  {
   "cell_type": "code",
   "execution_count": null,
   "id": "64a2d387",
   "metadata": {},
   "outputs": [],
   "source": []
  }
 ],
 "metadata": {
  "kernelspec": {
   "display_name": "Python 3 (ipykernel)",
   "language": "python",
   "name": "python3"
  },
  "language_info": {
   "codemirror_mode": {
    "name": "ipython",
    "version": 3
   },
   "file_extension": ".py",
   "mimetype": "text/x-python",
   "name": "python",
   "nbconvert_exporter": "python",
   "pygments_lexer": "ipython3",
   "version": "3.9.13"
  }
 },
 "nbformat": 4,
 "nbformat_minor": 5
}
